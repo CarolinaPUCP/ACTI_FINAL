{
 "cells": [
  {
   "cell_type": "code",
   "execution_count": 4,
   "id": "8af8e2f0",
   "metadata": {},
   "outputs": [
    {
     "data": {
      "text/plain": [
       "['countries', 'cities', 'rivers']"
      ]
     },
     "execution_count": 4,
     "metadata": {},
     "output_type": "execute_result"
    }
   ],
   "source": [
    "# NECESITO AGREGAR LOS TEMAS DE RIO, MUNICIPALIDADESM ESTADOS Y DEMAS EN UN SOLO MAPA ####################################################\n",
    "from  fiona import listlayers\n",
    "import os\n",
    "\n",
    "canadaMAP=os.path.join('maps','canadaMaps.gpkg')\n",
    "\n",
    "#layers in maps\n",
    "listlayers(canadaMAP)"
   ]
  },
  {
   "cell_type": "code",
   "execution_count": null,
   "id": "0a082b95",
   "metadata": {},
   "outputs": [],
   "source": []
  }
 ],
 "metadata": {
  "kernelspec": {
   "display_name": "Python 3 (ipykernel)",
   "language": "python",
   "name": "python3"
  },
  "language_info": {
   "codemirror_mode": {
    "name": "ipython",
    "version": 3
   },
   "file_extension": ".py",
   "mimetype": "text/x-python",
   "name": "python",
   "nbconvert_exporter": "python",
   "pygments_lexer": "ipython3",
   "version": "3.11.4"
  }
 },
 "nbformat": 4,
 "nbformat_minor": 5
}
