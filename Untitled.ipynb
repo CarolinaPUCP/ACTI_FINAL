{
 "cells": [
  {
   "cell_type": "code",
   "execution_count": 151,
   "id": "a88121f5",
   "metadata": {},
   "outputs": [
    {
     "data": {
      "text/plain": [
       "['countries', 'cities', 'rivers', 'municipalities']"
      ]
     },
     "execution_count": 151,
     "metadata": {},
     "output_type": "execute_result"
    }
   ],
   "source": [
    "# MAPA INICIAL DE CIUDAD, RIO Y PAIS\n",
    "\n",
    "\n",
    "# NECESITO AGREGAR LOS TEMAS DE MUNICIPALIDADES, ESTADOS, AEROPUERTOS Y DEMAS EN UN SOLO MAPA ####################################################\n",
    "from  fiona import listlayers\n",
    "import os\n",
    "import os, geopandas as gpd\n",
    "import pandas as pd\n",
    "\n",
    "mapa_canada='maps/canadaMaps.gpkg'\n",
    "\n",
    "\n",
    "#layers in maps\n",
    "listlayers(mapa_canada)"
   ]
  },
  {
   "cell_type": "code",
   "execution_count": 152,
   "id": "3ac6456a",
   "metadata": {},
   "outputs": [],
   "source": [
    "# MUNICIPALIDAD\n",
    "ruta_shapefile = \"maps/data_canada/CAN_adm3.shp\"\n",
    "muni = gpd.read_file(ruta_shapefile)"
   ]
  },
  {
   "cell_type": "code",
   "execution_count": 153,
   "id": "016dd2ef",
   "metadata": {},
   "outputs": [],
   "source": [
    "# AGREGAR MUNICIPALIDAD AL MAPA INICIAL\n",
    "\n",
    "ruta_shapefile = \"maps/data_canada/CAN_adm3.shp\"\n",
    "muni = gpd.read_file(ruta_shapefile)\n",
    "\n",
    "muni.to_file(os.path.join(\"maps\",\"canadaMaps.gpkg\"), layer='municipalities', driver=\"GPKG\")"
   ]
  },
  {
   "cell_type": "code",
   "execution_count": 154,
   "id": "086ad6d6",
   "metadata": {},
   "outputs": [
    {
     "data": {
      "text/plain": [
       "['countries', 'cities', 'rivers', 'municipalities']"
      ]
     },
     "execution_count": 154,
     "metadata": {},
     "output_type": "execute_result"
    }
   ],
   "source": [
    "# REVISAR LAYERS\n",
    "listlayers(mapa_canada)"
   ]
  },
  {
   "cell_type": "code",
   "execution_count": 155,
   "id": "9918d2d0",
   "metadata": {
    "scrolled": true
   },
   "outputs": [],
   "source": [
    "# CONTENER DATA DE AEROPUERTOS\n",
    "info_avion = pd.read_csv(os.path.join(\"data\", \"avion.csv\"))"
   ]
  },
  {
   "cell_type": "code",
   "execution_count": 156,
   "id": "866aecb3",
   "metadata": {},
   "outputs": [
    {
     "data": {
      "text/plain": [
       "type\n",
       "small_airport     1080\n",
       "closed             773\n",
       "heliport           476\n",
       "seaplane_base      408\n",
       "medium_airport     329\n",
       "large_airport       12\n",
       "balloonport          1\n",
       "Name: count, dtype: int64"
      ]
     },
     "execution_count": 156,
     "metadata": {},
     "output_type": "execute_result"
    }
   ],
   "source": [
    "avion['type'].value_counts()"
   ]
  },
  {
   "cell_type": "code",
   "execution_count": 157,
   "id": "e61f0ca9",
   "metadata": {},
   "outputs": [
    {
     "name": "stdout",
     "output_type": "stream",
     "text": [
      "<class 'pandas.core.frame.DataFrame'>\n",
      "RangeIndex: 3080 entries, 0 to 3079\n",
      "Data columns (total 7 columns):\n",
      " #   Column         Non-Null Count  Dtype  \n",
      "---  ------         --------------  -----  \n",
      " 0   name           3080 non-null   object \n",
      " 1   type           3080 non-null   object \n",
      " 2   latitude_deg   3080 non-null   float64\n",
      " 3   longitude_deg  3080 non-null   float64\n",
      " 4   elevation_ft   2561 non-null   float64\n",
      " 5   region_name    3080 non-null   object \n",
      " 6   municipality   2514 non-null   object \n",
      "dtypes: float64(3), object(4)\n",
      "memory usage: 168.6+ KB\n"
     ]
    }
   ],
   "source": [
    "# LIMPIEZA AEROPUERTO\n",
    "\n",
    "info_avion.drop(index=0,inplace=True)\n",
    "info_avion.reset_index(drop=True, inplace=True)\n",
    "\n",
    "# SE MANTIENEN ALGUNAS COLUMNAS\n",
    "keep=['name','type','latitude_deg', 'longitude_deg','elevation_ft','region_name','municipality']\n",
    "info_avion=info_avion.loc[:,keep]\n",
    "\n",
    "# LONGITUD Y LATITUD EN NUMEROS\n",
    "\n",
    "numericCols=['latitude_deg', 'longitude_deg','elevation_ft']\n",
    "info_avion[numericCols]=info_avion.loc[:,numericCols].apply(lambda x:pd.to_numeric(x))\n",
    "\n",
    "info_avion.info()"
   ]
  },
  {
   "cell_type": "code",
   "execution_count": null,
   "id": "bb3b2cfe",
   "metadata": {},
   "outputs": [],
   "source": [
    "# TRANSFORMANDO EL BORDE EN UN GDF PAIS CANADA\n",
    "\n",
    "canada=gpd.read_file(mapa_canada,layer='countries')\n",
    "\n",
    "# conversion\n",
    "canada_border=canada.boundary.to_frame() \n",
    "\n",
    "# new column (optional)\n",
    "canada_border['name']='Canada' \n",
    "\n",
    "# renaming the geometry column\n",
    "canada_border.rename(columns={0:'geometry'},inplace=True) \n",
    "\n",
    "#setting the geometry (the name is not enough)\n",
    "canada_border = canada_border.set_geometry(\"geometry\")\n",
    "\n",
    "# verifying:\n",
    "\n",
    "new_crs = \"EPSG:3978\"\n",
    "# Cambia el CRS del GeoDataFrame\n",
    "canada = canada.to_crs(new_crs)"
   ]
  },
  {
   "cell_type": "code",
   "execution_count": 158,
   "id": "d1061426",
   "metadata": {},
   "outputs": [
    {
     "data": {
      "text/html": [
       "<div>\n",
       "<style scoped>\n",
       "    .dataframe tbody tr th:only-of-type {\n",
       "        vertical-align: middle;\n",
       "    }\n",
       "\n",
       "    .dataframe tbody tr th {\n",
       "        vertical-align: top;\n",
       "    }\n",
       "\n",
       "    .dataframe thead th {\n",
       "        text-align: right;\n",
       "    }\n",
       "</style>\n",
       "<table border=\"1\" class=\"dataframe\">\n",
       "  <thead>\n",
       "    <tr style=\"text-align: right;\">\n",
       "      <th></th>\n",
       "      <th>name</th>\n",
       "      <th>type</th>\n",
       "      <th>latitude_deg</th>\n",
       "      <th>longitude_deg</th>\n",
       "      <th>elevation_ft</th>\n",
       "      <th>region_name</th>\n",
       "      <th>municipality</th>\n",
       "    </tr>\n",
       "  </thead>\n",
       "  <tbody>\n",
       "    <tr>\n",
       "      <th>0</th>\n",
       "      <td>Toronto Lester B. Pearson International Airport</td>\n",
       "      <td>large_airport</td>\n",
       "      <td>43.677200</td>\n",
       "      <td>-79.630600</td>\n",
       "      <td>569.0</td>\n",
       "      <td>Ontario</td>\n",
       "      <td>Toronto</td>\n",
       "    </tr>\n",
       "    <tr>\n",
       "      <th>1</th>\n",
       "      <td>Vancouver International Airport</td>\n",
       "      <td>large_airport</td>\n",
       "      <td>49.193901</td>\n",
       "      <td>-123.183998</td>\n",
       "      <td>14.0</td>\n",
       "      <td>British Columbia</td>\n",
       "      <td>Vancouver</td>\n",
       "    </tr>\n",
       "    <tr>\n",
       "      <th>2</th>\n",
       "      <td>Montreal / Pierre Elliott Trudeau Internationa...</td>\n",
       "      <td>large_airport</td>\n",
       "      <td>45.470600</td>\n",
       "      <td>-73.740799</td>\n",
       "      <td>118.0</td>\n",
       "      <td>Quebec</td>\n",
       "      <td>Montréal</td>\n",
       "    </tr>\n",
       "    <tr>\n",
       "      <th>3</th>\n",
       "      <td>Calgary International Airport</td>\n",
       "      <td>large_airport</td>\n",
       "      <td>51.113899</td>\n",
       "      <td>-114.019997</td>\n",
       "      <td>3557.0</td>\n",
       "      <td>Alberta</td>\n",
       "      <td>Calgary</td>\n",
       "    </tr>\n",
       "    <tr>\n",
       "      <th>4</th>\n",
       "      <td>Ottawa Macdonald-Cartier International Airport</td>\n",
       "      <td>large_airport</td>\n",
       "      <td>45.322498</td>\n",
       "      <td>-75.669197</td>\n",
       "      <td>374.0</td>\n",
       "      <td>Ontario</td>\n",
       "      <td>Ottawa</td>\n",
       "    </tr>\n",
       "    <tr>\n",
       "      <th>...</th>\n",
       "      <td>...</td>\n",
       "      <td>...</td>\n",
       "      <td>...</td>\n",
       "      <td>...</td>\n",
       "      <td>...</td>\n",
       "      <td>...</td>\n",
       "      <td>...</td>\n",
       "    </tr>\n",
       "    <tr>\n",
       "      <th>3075</th>\n",
       "      <td>Cow Creek Airport</td>\n",
       "      <td>closed</td>\n",
       "      <td>42.984340</td>\n",
       "      <td>-82.201140</td>\n",
       "      <td>643.0</td>\n",
       "      <td>Ontario</td>\n",
       "      <td>Wyoming</td>\n",
       "    </tr>\n",
       "    <tr>\n",
       "      <th>3076</th>\n",
       "      <td>Yahk Aerodrome</td>\n",
       "      <td>closed</td>\n",
       "      <td>49.109000</td>\n",
       "      <td>-116.059800</td>\n",
       "      <td>2870.0</td>\n",
       "      <td>British Columbia</td>\n",
       "      <td>Yahk</td>\n",
       "    </tr>\n",
       "    <tr>\n",
       "      <th>3077</th>\n",
       "      <td>Brazeau Airport</td>\n",
       "      <td>closed</td>\n",
       "      <td>52.967817</td>\n",
       "      <td>-115.867370</td>\n",
       "      <td>NaN</td>\n",
       "      <td>Alberta</td>\n",
       "      <td>Yellowhead</td>\n",
       "    </tr>\n",
       "    <tr>\n",
       "      <th>3078</th>\n",
       "      <td>E C Air Airport</td>\n",
       "      <td>closed</td>\n",
       "      <td>51.536140</td>\n",
       "      <td>-111.193240</td>\n",
       "      <td>NaN</td>\n",
       "      <td>Alberta</td>\n",
       "      <td>Youngstown</td>\n",
       "    </tr>\n",
       "    <tr>\n",
       "      <th>3079</th>\n",
       "      <td>Yoyo Airport</td>\n",
       "      <td>closed</td>\n",
       "      <td>58.925800</td>\n",
       "      <td>-121.473201</td>\n",
       "      <td>1950.0</td>\n",
       "      <td>British Columbia</td>\n",
       "      <td>Yoyo</td>\n",
       "    </tr>\n",
       "  </tbody>\n",
       "</table>\n",
       "<p>3080 rows × 7 columns</p>\n",
       "</div>"
      ],
      "text/plain": [
       "                                                   name           type  \\\n",
       "0       Toronto Lester B. Pearson International Airport  large_airport   \n",
       "1                       Vancouver International Airport  large_airport   \n",
       "2     Montreal / Pierre Elliott Trudeau Internationa...  large_airport   \n",
       "3                         Calgary International Airport  large_airport   \n",
       "4        Ottawa Macdonald-Cartier International Airport  large_airport   \n",
       "...                                                 ...            ...   \n",
       "3075                                  Cow Creek Airport         closed   \n",
       "3076                                     Yahk Aerodrome         closed   \n",
       "3077                                    Brazeau Airport         closed   \n",
       "3078                                    E C Air Airport         closed   \n",
       "3079                                       Yoyo Airport         closed   \n",
       "\n",
       "      latitude_deg  longitude_deg  elevation_ft       region_name municipality  \n",
       "0        43.677200     -79.630600         569.0           Ontario      Toronto  \n",
       "1        49.193901    -123.183998          14.0  British Columbia    Vancouver  \n",
       "2        45.470600     -73.740799         118.0            Quebec     Montréal  \n",
       "3        51.113899    -114.019997        3557.0           Alberta      Calgary  \n",
       "4        45.322498     -75.669197         374.0           Ontario       Ottawa  \n",
       "...            ...            ...           ...               ...          ...  \n",
       "3075     42.984340     -82.201140         643.0           Ontario      Wyoming  \n",
       "3076     49.109000    -116.059800        2870.0  British Columbia         Yahk  \n",
       "3077     52.967817    -115.867370           NaN           Alberta   Yellowhead  \n",
       "3078     51.536140    -111.193240           NaN           Alberta   Youngstown  \n",
       "3079     58.925800    -121.473201        1950.0  British Columbia         Yoyo  \n",
       "\n",
       "[3080 rows x 7 columns]"
      ]
     },
     "execution_count": 158,
     "metadata": {},
     "output_type": "execute_result"
    }
   ],
   "source": [
    "info_avion"
   ]
  },
  {
   "cell_type": "code",
   "execution_count": 159,
   "id": "d3f493b4",
   "metadata": {},
   "outputs": [
    {
     "data": {
      "text/plain": [
       "<Axes: >"
      ]
     },
     "execution_count": 159,
     "metadata": {},
     "output_type": "execute_result"
    },
    {
     "data": {
      "image/png": "[encoded data removed]",
      "text/plain": [
       "<Figure size 640x480 with 1 Axes>"
      ]
     },
     "metadata": {},
     "output_type": "display_data"
    }
   ],
   "source": [
    "avion=gpd.GeoDataFrame(data=info_avion.copy(),\n",
    "                 geometry=gpd.points_from_xy(info_avion.longitude_deg,\n",
    "                                             info_avion.latitude_deg), \n",
    "                 crs=4326)\n",
    "avion = avion.to_crs(3978)\n",
    "avion.plot()"
   ]
  },
  {
   "cell_type": "code",
   "execution_count": 160,
   "id": "378e66f8",
   "metadata": {},
   "outputs": [
    {
     "ename": "ValueError",
     "evalue": "Location values cannot contain NaNs.",
     "output_type": "error",
     "traceback": [
      "\u001b[1;31m---------------------------------------------------------------------------\u001b[0m",
      "\u001b[1;31mValueError\u001b[0m                                Traceback (most recent call last)",
      "Cell \u001b[1;32mIn[160], line 2\u001b[0m\n\u001b[0;32m      1\u001b[0m \u001b[38;5;66;03m# REDUCIR A AEROPUERTOS PEQUEÑOS\u001b[39;00m\n\u001b[1;32m----> 2\u001b[0m m \u001b[38;5;241m=\u001b[39m avion[avion\u001b[38;5;241m.\u001b[39mtype\u001b[38;5;241m==\u001b[39m\u001b[38;5;124m\"\u001b[39m\u001b[38;5;124mmedium_airport\u001b[39m\u001b[38;5;124m\"\u001b[39m]\u001b[38;5;241m.\u001b[39mexplore(color\u001b[38;5;241m=\u001b[39m\u001b[38;5;124m\"\u001b[39m\u001b[38;5;124mred\u001b[39m\u001b[38;5;124m\"\u001b[39m,name\u001b[38;5;241m=\u001b[39m\u001b[38;5;124m\"\u001b[39m\u001b[38;5;124mmedium\u001b[39m\u001b[38;5;124m\"\u001b[39m,show\u001b[38;5;241m=\u001b[39m\u001b[38;5;28;01mFalse\u001b[39;00m)\n",
      "File \u001b[1;32m~\\anaconda3\\Lib\\site-packages\\geopandas\\geodataframe.py:2113\u001b[0m, in \u001b[0;36mGeoDataFrame.explore\u001b[1;34m(self, *args, **kwargs)\u001b[0m\n\u001b[0;32m   2111\u001b[0m \u001b[38;5;129m@doc\u001b[39m(_explore)\n\u001b[0;32m   2112\u001b[0m \u001b[38;5;28;01mdef\u001b[39;00m \u001b[38;5;21mexplore\u001b[39m(\u001b[38;5;28mself\u001b[39m, \u001b[38;5;241m*\u001b[39margs, \u001b[38;5;241m*\u001b[39m\u001b[38;5;241m*\u001b[39mkwargs):\n\u001b[1;32m-> 2113\u001b[0m     \u001b[38;5;28;01mreturn\u001b[39;00m _explore(\u001b[38;5;28mself\u001b[39m, \u001b[38;5;241m*\u001b[39margs, \u001b[38;5;241m*\u001b[39m\u001b[38;5;241m*\u001b[39mkwargs)\n",
      "File \u001b[1;32m~\\anaconda3\\Lib\\site-packages\\geopandas\\explore.py:371\u001b[0m, in \u001b[0;36m_explore\u001b[1;34m(df, column, cmap, color, m, tiles, attr, tooltip, popup, highlight, categorical, legend, scheme, k, vmin, vmax, width, height, categories, classification_kwds, control_scale, marker_type, marker_kwds, style_kwds, highlight_kwds, missing_kwds, tooltip_kwds, popup_kwds, legend_kwds, map_kwds, **kwargs)\u001b[0m\n\u001b[0;32m    368\u001b[0m             map_kwds[\u001b[38;5;124m\"\u001b[39m\u001b[38;5;124mmax_zoom\u001b[39m\u001b[38;5;124m\"\u001b[39m] \u001b[38;5;241m=\u001b[39m tiles\u001b[38;5;241m.\u001b[39mget(\u001b[38;5;124m\"\u001b[39m\u001b[38;5;124mmax_zoom\u001b[39m\u001b[38;5;124m\"\u001b[39m, \u001b[38;5;241m18\u001b[39m)\n\u001b[0;32m    369\u001b[0m         tiles \u001b[38;5;241m=\u001b[39m tiles\u001b[38;5;241m.\u001b[39mbuild_url(scale_factor\u001b[38;5;241m=\u001b[39m\u001b[38;5;124m\"\u001b[39m\u001b[38;5;132;01m{r}\u001b[39;00m\u001b[38;5;124m\"\u001b[39m)\n\u001b[1;32m--> 371\u001b[0m m \u001b[38;5;241m=\u001b[39m folium\u001b[38;5;241m.\u001b[39mMap(\n\u001b[0;32m    372\u001b[0m     location\u001b[38;5;241m=\u001b[39mlocation,\n\u001b[0;32m    373\u001b[0m     control_scale\u001b[38;5;241m=\u001b[39mcontrol_scale,\n\u001b[0;32m    374\u001b[0m     tiles\u001b[38;5;241m=\u001b[39mtiles,\n\u001b[0;32m    375\u001b[0m     attr\u001b[38;5;241m=\u001b[39mattr,\n\u001b[0;32m    376\u001b[0m     width\u001b[38;5;241m=\u001b[39mwidth,\n\u001b[0;32m    377\u001b[0m     height\u001b[38;5;241m=\u001b[39mheight,\n\u001b[0;32m    378\u001b[0m     \u001b[38;5;241m*\u001b[39m\u001b[38;5;241m*\u001b[39mmap_kwds,\n\u001b[0;32m    379\u001b[0m )\n\u001b[0;32m    381\u001b[0m \u001b[38;5;66;03m# fit bounds to get a proper zoom level\u001b[39;00m\n\u001b[0;32m    382\u001b[0m \u001b[38;5;28;01mif\u001b[39;00m fit:\n",
      "File \u001b[1;32m~\\anaconda3\\Lib\\site-packages\\folium\\folium.py:274\u001b[0m, in \u001b[0;36mMap.__init__\u001b[1;34m(self, location, width, height, left, top, position, tiles, attr, min_zoom, max_zoom, zoom_start, min_lat, max_lat, min_lon, max_lon, max_bounds, crs, control_scale, prefer_canvas, no_touch, disable_3d, png_enabled, zoom_control, **kwargs)\u001b[0m\n\u001b[0;32m    272\u001b[0m     zoom_start \u001b[38;5;241m=\u001b[39m \u001b[38;5;241m1\u001b[39m\n\u001b[0;32m    273\u001b[0m \u001b[38;5;28;01melse\u001b[39;00m:\n\u001b[1;32m--> 274\u001b[0m     \u001b[38;5;28mself\u001b[39m\u001b[38;5;241m.\u001b[39mlocation \u001b[38;5;241m=\u001b[39m validate_location(location)\n\u001b[0;32m    276\u001b[0m Figure()\u001b[38;5;241m.\u001b[39madd_child(\u001b[38;5;28mself\u001b[39m)\n\u001b[0;32m    278\u001b[0m \u001b[38;5;66;03m# Map Size Parameters.\u001b[39;00m\n",
      "File \u001b[1;32m~\\anaconda3\\Lib\\site-packages\\folium\\utilities.py:78\u001b[0m, in \u001b[0;36mvalidate_location\u001b[1;34m(location)\u001b[0m\n\u001b[0;32m     71\u001b[0m         \u001b[38;5;28;01mraise\u001b[39;00m \u001b[38;5;167;01mValueError\u001b[39;00m(\n\u001b[0;32m     72\u001b[0m             \u001b[38;5;124m\"\u001b[39m\u001b[38;5;124mLocation should consist of two numerical values, \u001b[39m\u001b[38;5;124m\"\u001b[39m\n\u001b[0;32m     73\u001b[0m             \u001b[38;5;124m\"\u001b[39m\u001b[38;5;124mbut \u001b[39m\u001b[38;5;132;01m{!r}\u001b[39;00m\u001b[38;5;124m of type \u001b[39m\u001b[38;5;132;01m{}\u001b[39;00m\u001b[38;5;124m is not convertible to float.\u001b[39m\u001b[38;5;124m\"\u001b[39m\u001b[38;5;241m.\u001b[39mformat(\n\u001b[0;32m     74\u001b[0m                 coord, \u001b[38;5;28mtype\u001b[39m(coord)\n\u001b[0;32m     75\u001b[0m             )\n\u001b[0;32m     76\u001b[0m         )\n\u001b[0;32m     77\u001b[0m     \u001b[38;5;28;01mif\u001b[39;00m math\u001b[38;5;241m.\u001b[39misnan(\u001b[38;5;28mfloat\u001b[39m(coord)):\n\u001b[1;32m---> 78\u001b[0m         \u001b[38;5;28;01mraise\u001b[39;00m \u001b[38;5;167;01mValueError\u001b[39;00m(\u001b[38;5;124m\"\u001b[39m\u001b[38;5;124mLocation values cannot contain NaNs.\u001b[39m\u001b[38;5;124m\"\u001b[39m)\n\u001b[0;32m     79\u001b[0m \u001b[38;5;28;01mreturn\u001b[39;00m [\u001b[38;5;28mfloat\u001b[39m(x) \u001b[38;5;28;01mfor\u001b[39;00m x \u001b[38;5;129;01min\u001b[39;00m coords]\n",
      "\u001b[1;31mValueError\u001b[0m: Location values cannot contain NaNs."
     ]
    }
   ],
   "source": [
    "# REDUCIR A AEROPUERTOS PEQUEÑOS\n",
    "m = avion[avion.type==\"medium_airport\"].explore(color=\"red\",name=\"medium\",show=False)\n"
   ]
  },
  {
   "cell_type": "code",
   "execution_count": null,
   "id": "33f3f701",
   "metadata": {},
   "outputs": [],
   "source": [
    "# AVION LISTO"
   ]
  },
  {
   "cell_type": "code",
   "execution_count": 83,
   "id": "861d1801",
   "metadata": {},
   "outputs": [
    {
     "data": {
      "text/plain": [
       "['World Port Index Number',\n",
       " 'Region Name',\n",
       " 'Main Port Name',\n",
       " 'Alternate Port Name',\n",
       " 'UN/LOCODE',\n",
       " 'Country Code',\n",
       " 'World Water Body',\n",
       " 'IHO S-130 Sea Area',\n",
       " 'Sailing Direction or Publication',\n",
       " 'Publication Link',\n",
       " 'Standard Nautical Chart',\n",
       " 'IHO S-57 Electronic Navigational Chart',\n",
       " 'IHO S-101 Electronic Navigational Chart',\n",
       " 'Digital Nautical Chart',\n",
       " 'Tidal Range (m)',\n",
       " 'Entrance Width (m)',\n",
       " 'Channel Depth (m)',\n",
       " 'Anchorage Depth (m)',\n",
       " 'Cargo Pier Depth (m)',\n",
       " 'Oil Terminal Depth (m)',\n",
       " 'Liquified Natural Gas Terminal Depth (m)',\n",
       " 'Maximum Vessel Length (m)',\n",
       " 'Maximum Vessel Beam (m)',\n",
       " 'Maximum Vessel Draft (m)',\n",
       " 'Offshore Maximum Vessel Length (m)',\n",
       " 'Offshore Maximum Vessel Beam (m)',\n",
       " 'Offshore Maximum Vessel Draft (m)',\n",
       " 'Harbor Size',\n",
       " 'Harbor Type',\n",
       " 'Harbor Use',\n",
       " 'Shelter Afforded',\n",
       " 'Entrance Restriction - Tide',\n",
       " 'Entrance Restriction - Heavy Swell',\n",
       " 'Entrance Restriction - Ice',\n",
       " 'Entrance Restriction - Other',\n",
       " 'Overhead Limits',\n",
       " 'Underkeel Clearance Management System',\n",
       " 'Good Holding Ground',\n",
       " 'Turning Area',\n",
       " 'Port Security',\n",
       " 'Estimated Time of Arrival Message',\n",
       " 'Quarantine - Pratique',\n",
       " 'Quarantine - Sanitation',\n",
       " 'Quarantine - Other',\n",
       " 'Traffic Separation Scheme',\n",
       " 'Vessel Traffic Service',\n",
       " 'First Port of Entry',\n",
       " 'US Representative',\n",
       " 'Pilotage - Compulsory',\n",
       " 'Pilotage - Available',\n",
       " 'Pilotage - Local Assistance',\n",
       " 'Pilotage - Advisable',\n",
       " 'Tugs - Salvage',\n",
       " 'Tugs - Assistance',\n",
       " 'Communications - Telephone',\n",
       " 'Communications - Telefax',\n",
       " 'Communications - Radio',\n",
       " 'Communications - Radiotelephone',\n",
       " 'Communications - Airport',\n",
       " 'Communications - Rail',\n",
       " 'Search and Rescue',\n",
       " 'NAVAREA',\n",
       " 'Facilities - Wharves',\n",
       " 'Facilities - Anchorage',\n",
       " 'Facilities - Dangerous Cargo Anchorage',\n",
       " 'Facilities - Med Mooring',\n",
       " 'Facilities - Beach Mooring',\n",
       " 'Facilities - Ice Mooring',\n",
       " 'Facilities - Ro-Ro',\n",
       " 'Facilities - Solid Bulk',\n",
       " 'Facilities - Liquid Bulk',\n",
       " 'Facilities - Container',\n",
       " 'Facilities - Breakbulk',\n",
       " 'Facilities - Oil Terminal',\n",
       " 'Facilities - LNG Terminal',\n",
       " 'Facilities - Other',\n",
       " 'Medical Facilities',\n",
       " 'Garbage Disposal',\n",
       " 'Chemical Holding Tank Disposal',\n",
       " 'Degaussing',\n",
       " 'Dirty Ballast Disposal',\n",
       " 'Cranes - Fixed',\n",
       " 'Cranes - Mobile',\n",
       " 'Cranes - Floating',\n",
       " 'Cranes - Container',\n",
       " 'Lifts - 100+ Tons',\n",
       " 'Lifts - 50-100 Tons',\n",
       " 'Lifts - 25-49 Tons',\n",
       " 'Lifts - 0-24 Tons',\n",
       " 'Services - Longshoremen',\n",
       " 'Services - Electricity',\n",
       " 'Services - Steam',\n",
       " 'Services - Navigation Equipment',\n",
       " 'Services - Electrical Repair',\n",
       " 'Services - Ice Breaking',\n",
       " 'Services - Diving',\n",
       " 'Supplies - Provisions',\n",
       " 'Supplies - Potable Water',\n",
       " 'Supplies - Fuel Oil',\n",
       " 'Supplies - Diesel Oil',\n",
       " 'Supplies - Aviation Fuel',\n",
       " 'Supplies - Deck',\n",
       " 'Supplies - Engine',\n",
       " 'Repairs',\n",
       " 'Dry Dock',\n",
       " 'Railway',\n",
       " 'Latitude',\n",
       " 'Longitude']"
      ]
     },
     "execution_count": 83,
     "metadata": {},
     "output_type": "execute_result"
    }
   ],
   "source": [
    "# MOSTRAR DATOS MARITIMOS\n",
    "portsFile=os.path.join('data','UpdatedPub150.csv')\n",
    "\n",
    "info_mar=pd.read_csv(portsFile)\n",
    "\n",
    "info_mar.columns.to_list()"
   ]
  },
  {
   "cell_type": "code",
   "execution_count": 84,
   "id": "14e8f8f9",
   "metadata": {},
   "outputs": [],
   "source": [
    "# RENOMBRAR MAR\n",
    "info_mar.rename(columns={'Main Port Name':'portName'},inplace=True)\n",
    "info_mar=mar.loc[:,['portName', 'Country Code','Latitude', 'Longitude']]"
   ]
  },
  {
   "cell_type": "code",
   "execution_count": 85,
   "id": "ed133bc5",
   "metadata": {
    "scrolled": true
   },
   "outputs": [
    {
     "name": "stdout",
     "output_type": "stream",
     "text": [
      "<class 'pandas.core.frame.DataFrame'>\n",
      "RangeIndex: 3739 entries, 0 to 3738\n",
      "Data columns (total 4 columns):\n",
      " #   Column        Non-Null Count  Dtype  \n",
      "---  ------        --------------  -----  \n",
      " 0   portName      3739 non-null   object \n",
      " 1   Country Code  3739 non-null   object \n",
      " 2   Latitude      3739 non-null   float64\n",
      " 3   Longitude     3739 non-null   float64\n",
      "dtypes: float64(2), object(2)\n",
      "memory usage: 117.0+ KB\n"
     ]
    }
   ],
   "source": [
    "# REVISAR INDEX PARA SELECCIONAR LATITUDES Y LONGITUDES\n",
    "\n",
    "# MAR\n",
    "info_mar.info()"
   ]
  },
  {
   "cell_type": "code",
   "execution_count": 115,
   "id": "054e633b",
   "metadata": {},
   "outputs": [
    {
     "data": {
      "text/plain": [
       "<Axes: >"
      ]
     },
     "execution_count": 115,
     "metadata": {},
     "output_type": "execute_result"
    },
    {
     "data": {
      "image/png": "[encoded data removed]",
      "text/plain": [
       "<Figure size 640x480 with 1 Axes>"
      ]
     },
     "metadata": {},
     "output_type": "display_data"
    }
   ],
   "source": [
    "# SE CONVIERTE EN OBJETO ESPACIAL MAR\n",
    "\n",
    "mar = gpd.GeoDataFrame(data=info_mar.copy(),\n",
    "                            geometry=gpd.points_from_xy(info_mar.Longitude,\n",
    "                                                        info_mar.Latitude), \n",
    "                            crs=4326)\n",
    "\n",
    "mar_can=mar[mar['Country Code']=='Canada'].copy()\n",
    "\n",
    "# RESETEA INDICES\n",
    "mar_can.reset_index(drop=True, inplace=True)\n",
    "\n",
    "# REPROYECTANDO\n",
    "mar_can=mar_bra.to_crs(3978)\n",
    "mar_can.plot()"
   ]
  },
  {
   "cell_type": "code",
   "execution_count": 112,
   "id": "f94433a7",
   "metadata": {},
   "outputs": [],
   "source": [
    "# MAR LISTO"
   ]
  },
  {
   "cell_type": "code",
   "execution_count": 119,
   "id": "f6f1c6a3",
   "metadata": {},
   "outputs": [
    {
     "data": {
      "text/plain": [
       "<Axes: >"
      ]
     },
     "execution_count": 119,
     "metadata": {},
     "output_type": "execute_result"
    },
    {
     "data": {
      "image/png": "[encoded data removed]",
      "text/plain": [
       "<Figure size 640x480 with 1 Axes>"
      ]
     },
     "metadata": {},
     "output_type": "display_data"
    }
   ],
   "source": [
    "# PLOTEAR EVIDENCIA DE MAR Y AVION EN MAPA INICIAL\n",
    "base = canada.plot(color='white', edgecolor='black')\n",
    "avion.plot(ax=base,markersize=1)\n",
    "mar_can.plot(ax=base,markersize=1)"
   ]
  },
  {
   "cell_type": "code",
   "execution_count": null,
   "id": "08875ae2",
   "metadata": {},
   "outputs": [],
   "source": [
    "# AGREGAR AL MAPA INICIAL"
   ]
  },
  {
   "cell_type": "code",
   "execution_count": null,
   "id": "f42da157",
   "metadata": {},
   "outputs": [],
   "source": [
    "# REVISAR LAYERS"
   ]
  }
 ],
 "metadata": {
  "kernelspec": {
   "display_name": "Python 3 (ipykernel)",
   "language": "python",
   "name": "python3"
  },
  "language_info": {
   "codemirror_mode": {
    "name": "ipython",
    "version": 3
   },
   "file_extension": ".py",
   "mimetype": "text/x-python",
   "name": "python",
   "nbconvert_exporter": "python",
   "pygments_lexer": "ipython3",
   "version": "3.11.4"
  }
 },
 "nbformat": 4,
 "nbformat_minor": 5
}
